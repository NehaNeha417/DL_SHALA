{
  "nbformat": 4,
  "nbformat_minor": 0,
  "metadata": {
    "colab": {
      "name": "VAE.ipynb",
      "provenance": [],
      "collapsed_sections": [],
      "authorship_tag": "ABX9TyMVCeDdxNdt2oWiEC2j1/EQ",
      "include_colab_link": true
    },
    "kernelspec": {
      "name": "python3",
      "display_name": "Python 3"
    }
  },
  "cells": [
    {
      "cell_type": "markdown",
      "metadata": {
        "id": "view-in-github",
        "colab_type": "text"
      },
      "source": [
        "<a href=\"https://colab.research.google.com/github/NehaNeha417/DL_SHALA/blob/master/VAE.ipynb\" target=\"_parent\"><img src=\"https://colab.research.google.com/assets/colab-badge.svg\" alt=\"Open In Colab\"/></a>"
      ]
    },
    {
      "cell_type": "code",
      "metadata": {
        "id": "WLRoMUYVjRGz",
        "colab_type": "code",
        "colab": {
          "base_uri": "https://localhost:8080/",
          "height": 309
        },
        "outputId": "2f301599-8fa7-489c-ff11-a50c5812d7a3"
      },
      "source": [
        "!pip install imageio\n",
        "!pip install tfp-nightly"
      ],
      "execution_count": 1,
      "outputs": [
        {
          "output_type": "stream",
          "text": [
            "Requirement already satisfied: imageio in /usr/local/lib/python3.6/dist-packages (2.4.1)\n",
            "Requirement already satisfied: numpy in /usr/local/lib/python3.6/dist-packages (from imageio) (1.18.5)\n",
            "Requirement already satisfied: pillow in /usr/local/lib/python3.6/dist-packages (from imageio) (7.0.0)\n",
            "Collecting tfp-nightly\n",
            "\u001b[?25l  Downloading https://files.pythonhosted.org/packages/59/07/361b280c9389406ad4db3b95e82af7e68ca5727a5ade6ba8e6cff731843f/tfp_nightly-0.11.0.dev20200620-py2.py3-none-any.whl (4.1MB)\n",
            "\u001b[K     |████████████████████████████████| 4.1MB 2.8MB/s \n",
            "\u001b[?25hRequirement already satisfied: decorator in /usr/local/lib/python3.6/dist-packages (from tfp-nightly) (4.4.2)\n",
            "Requirement already satisfied: numpy>=1.13.3 in /usr/local/lib/python3.6/dist-packages (from tfp-nightly) (1.18.5)\n",
            "Requirement already satisfied: cloudpickle==1.3 in /usr/local/lib/python3.6/dist-packages (from tfp-nightly) (1.3.0)\n",
            "Requirement already satisfied: six>=1.10.0 in /usr/local/lib/python3.6/dist-packages (from tfp-nightly) (1.12.0)\n",
            "Collecting dm-tree\n",
            "\u001b[?25l  Downloading https://files.pythonhosted.org/packages/16/48/10fb721334810081b7e6eebeba0d12e12126c76993e8c243062d2f56a89f/dm_tree-0.1.5-cp36-cp36m-manylinux1_x86_64.whl (294kB)\n",
            "\u001b[K     |████████████████████████████████| 296kB 30.1MB/s \n",
            "\u001b[?25hRequirement already satisfied: gast>=0.3.2 in /usr/local/lib/python3.6/dist-packages (from tfp-nightly) (0.3.3)\n",
            "Installing collected packages: dm-tree, tfp-nightly\n",
            "Successfully installed dm-tree-0.1.5 tfp-nightly-0.11.0.dev20200620\n"
          ],
          "name": "stdout"
        }
      ]
    },
    {
      "cell_type": "code",
      "metadata": {
        "id": "53MciLm2o9P0",
        "colab_type": "code",
        "colab": {}
      },
      "source": [
        "from IPython import display\n",
        "import glob\n",
        "import imageio\n",
        "import matplotlib.pyplot as plt\n",
        "import numpy as np\n",
        "import PIL\n",
        "import tensorflow as tf\n",
        "import tensorflow_probability as tfp\n",
        "import time\n"
      ],
      "execution_count": 9,
      "outputs": []
    },
    {
      "cell_type": "code",
      "metadata": {
        "id": "gtCj9A8Lp2rX",
        "colab_type": "code",
        "colab": {}
      },
      "source": [
        "(train_images,_),(test_images,_) = tf.keras.datasets.mnist.load_data()"
      ],
      "execution_count": 10,
      "outputs": []
    },
    {
      "cell_type": "code",
      "metadata": {
        "id": "7W4JcxPbp2yN",
        "colab_type": "code",
        "colab": {}
      },
      "source": [
        "def preprocess_images(images):\n",
        "  images = images.reshape((images.shape[0],28,28,1))/255\n",
        "  return np.where(images > 0.5,1.0,0.0).astype('float32')\n",
        "\n",
        "train_images = preprocess_images(train_images)\n",
        "test_images = preprocess_images(test_images)"
      ],
      "execution_count": 11,
      "outputs": []
    },
    {
      "cell_type": "code",
      "metadata": {
        "id": "Bqdzpxlop20l",
        "colab_type": "code",
        "colab": {}
      },
      "source": [
        "train_size = 60000\n",
        "batch_size = 32\n",
        "test_size = 10000"
      ],
      "execution_count": 12,
      "outputs": []
    },
    {
      "cell_type": "code",
      "metadata": {
        "id": "ut2o1VOTsn5f",
        "colab_type": "code",
        "colab": {}
      },
      "source": [
        "train_dataset = (tf.data.Dataset).from_tensor_slices(train_images).shuffle(train_size).batch(batch_size)     #shuffle--- to generalize the model for all images\n",
        "test_dataset = (tf.data.Dataset).from_tensor_slices(test_images).shuffle(test_size).batch(batch_size)"
      ],
      "execution_count": 13,
      "outputs": []
    },
    {
      "cell_type": "code",
      "metadata": {
        "id": "cpI5GBx8sns1",
        "colab_type": "code",
        "colab": {
          "base_uri": "https://localhost:8080/",
          "height": 129
        },
        "outputId": "0ddac201-e576-4268-8ec6-ba9a2fa31bc6"
      },
      "source": [
        "def __init__(self,latent_dim):\n",
        "  super(CVAE,self).__init__()\n",
        "  self.latent_dim = latent_dim\n",
        "  self.encoder= tf.keras.sequential(\n",
        "      [\n",
        "           tf.keras.layers.InputLayer(input_shape=(28,28,1)),\n",
        "           tf.keras.layers.Conv2D(\n",
        "               filters =32 ,kernel_size=3, strides = (2,2), activation='relu')\n",
        "           tf.keras.layers.Conv2D(\n",
        "               filters=64, kernel_size=3, strides=(2,2), activation='relu')\n",
        "           tf.keras.layers.flatten()\n",
        "           tf.keras.layers.Dense(latent_dim + latent_dim)\n",
        "           \n",
        "      ]\n",
        "  )\n",
        "\n",
        "  self.decoder = tf.keras.Sequential(\n",
        "      [\n",
        "          tf.keras.layers.InputLayer(input_shape=latent_dim)\n",
        "          tf.keras.layers.Dense(units=7*7*32, activation=tf.nn.relu)\n",
        "          tf.keras.layers.Reshape(target_shape=(7,7,32)),filters=64, strides=2, padding='same', activation='relu')\n",
        "          tf.keras.layers.Conv2DTranspose(filters=32, strides=2, padding='same', activation='relu')\n",
        "          tf.keras.layers.Conv2DTranspose(filters=1, kernel_size=3, strides=1, padding='same')\n",
        "\n",
        "      ]\n",
        "  )\n",
        "  @tf.function\n",
        "  def sample(self, eps=None):\n",
        "    if eps is None:\n",
        "      eps = tf.random.normal(shape=(100, self.latent_dim))\n",
        "      return self.decode(eps, apply_sigmoid=True)\n",
        "  def encode(self,x):\n",
        "    mean,logvar = tf.split(self.encode(x),num_or_size_splits=2, axis=1)\n",
        "    return mean,logvar\n",
        "  def reparameterize(self,mean,logvar):\n",
        "    eps = tf.random.normal(shape=mean.shape)\n",
        "    return eps * tf.exp(logvar * 0.5) + mean\n",
        "  def decode(self,z,apply_sigmoid=False):\n",
        "    logits = self.decoder(z)\n",
        "    if apply_sigmoid:\n",
        "      probs = tf.sigmoid(logits)\n",
        "      return probs\n",
        "    return logits\n",
        "\n"
      ],
      "execution_count": 16,
      "outputs": [
        {
          "output_type": "error",
          "ename": "SyntaxError",
          "evalue": "ignored",
          "traceback": [
            "\u001b[0;36m  File \u001b[0;32m\"<ipython-input-16-5412a00d7ff2>\"\u001b[0;36m, line \u001b[0;32m9\u001b[0m\n\u001b[0;31m    tf.keras.layers.Conv2D(\u001b[0m\n\u001b[0m     ^\u001b[0m\n\u001b[0;31mSyntaxError\u001b[0m\u001b[0;31m:\u001b[0m invalid syntax\n"
          ]
        }
      ]
    },
    {
      "cell_type": "code",
      "metadata": {
        "id": "oLxTisxssnp1",
        "colab_type": "code",
        "colab": {}
      },
      "source": [
        ""
      ],
      "execution_count": null,
      "outputs": []
    },
    {
      "cell_type": "code",
      "metadata": {
        "id": "c8K4jkTasni6",
        "colab_type": "code",
        "colab": {}
      },
      "source": [
        ""
      ],
      "execution_count": null,
      "outputs": []
    }
  ]
}