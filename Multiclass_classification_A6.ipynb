{
  "nbformat": 4,
  "nbformat_minor": 0,
  "metadata": {
    "colab": {
      "name": "Multiclass_classification_A6.ipynb",
      "provenance": [],
      "mount_file_id": "1M0hbLL8cLY3j0WFFmcssGv36Ejikmkpb",
      "authorship_tag": "ABX9TyOHDYtP9n9L4Z5JC1yi09d5",
      "include_colab_link": true
    },
    "kernelspec": {
      "name": "python3",
      "display_name": "Python 3"
    }
  },
  "cells": [
    {
      "cell_type": "markdown",
      "metadata": {
        "id": "view-in-github",
        "colab_type": "text"
      },
      "source": [
        "<a href=\"https://colab.research.google.com/github/NehaNeha417/DL_SHALA/blob/master/Multiclass_classification_A6.ipynb\" target=\"_parent\"><img src=\"https://colab.research.google.com/assets/colab-badge.svg\" alt=\"Open In Colab\"/></a>"
      ]
    },
    {
      "cell_type": "code",
      "metadata": {
        "id": "kNT5_nLin2di",
        "colab_type": "code",
        "colab": {}
      },
      "source": [
        "import numpy as np\n",
        "import pandas as pd\n",
        "from keras.layers import Dense, Embedding,LSTM          # spatialDropoutID\n",
        "from keras.models import Sequential\n",
        "from sklearn.feature_extraction.text import CountVectorizer\n",
        "from keras.preprocessing.text import Tokenizer\n",
        "from keras.preprocessing.sequence import pad_sequences\n",
        "from sklearn.model_selection import train_test_split\n",
        "from keras.utils.np_utils import to_categorical\n",
        "from keras.callbacks import EarlyStopping"
      ],
      "execution_count": 8,
      "outputs": []
    },
    {
      "cell_type": "code",
      "metadata": {
        "id": "JqQPgmneq_Wj",
        "colab_type": "code",
        "colab": {
          "base_uri": "https://localhost:8080/",
          "height": 122
        },
        "outputId": "f300637e-5bef-4c7a-a927-ac8342db1612"
      },
      "source": [
        "from google.colab import drive\n",
        "drive.mount('/content/drive')"
      ],
      "execution_count": 1,
      "outputs": [
        {
          "output_type": "stream",
          "text": [
            "Go to this URL in a browser: https://accounts.google.com/o/oauth2/auth?client_id=947318989803-6bn6qk8qdgf4n4g3pfee6491hc0brc4i.apps.googleusercontent.com&redirect_uri=urn%3aietf%3awg%3aoauth%3a2.0%3aoob&response_type=code&scope=email%20https%3a%2f%2fwww.googleapis.com%2fauth%2fdocs.test%20https%3a%2f%2fwww.googleapis.com%2fauth%2fdrive%20https%3a%2f%2fwww.googleapis.com%2fauth%2fdrive.photos.readonly%20https%3a%2f%2fwww.googleapis.com%2fauth%2fpeopleapi.readonly\n",
            "\n",
            "Enter your authorization code:\n",
            "··········\n",
            "Mounted at /content/drive\n"
          ],
          "name": "stdout"
        }
      ]
    },
    {
      "cell_type": "code",
      "metadata": {
        "id": "l73ZnixPrhFs",
        "colab_type": "code",
        "colab": {}
      },
      "source": [
        "file = ('drive/My Drive/Data_DL/uci-news-aggregator.csv')\n",
        "data = pd.read_csv(file)"
      ],
      "execution_count": 15,
      "outputs": []
    },
    {
      "cell_type": "code",
      "metadata": {
        "id": "gYGQL56xGRVT",
        "colab_type": "code",
        "colab": {
          "base_uri": "https://localhost:8080/",
          "height": 34
        },
        "outputId": "f7dde6b9-0f5a-4644-cd1f-2f29f86c6e57"
      },
      "source": [
        "data.shape"
      ],
      "execution_count": 16,
      "outputs": [
        {
          "output_type": "execute_result",
          "data": {
            "text/plain": [
              "(422419, 8)"
            ]
          },
          "metadata": {
            "tags": []
          },
          "execution_count": 16
        }
      ]
    },
    {
      "cell_type": "code",
      "metadata": {
        "id": "k7P-SOY2GEOh",
        "colab_type": "code",
        "colab": {
          "base_uri": "https://localhost:8080/",
          "height": 374
        },
        "outputId": "36957169-d946-49c9-e8ff-1b77a593d3cc"
      },
      "source": [
        "data.head()"
      ],
      "execution_count": 17,
      "outputs": [
        {
          "output_type": "execute_result",
          "data": {
            "text/html": [
              "<div>\n",
              "<style scoped>\n",
              "    .dataframe tbody tr th:only-of-type {\n",
              "        vertical-align: middle;\n",
              "    }\n",
              "\n",
              "    .dataframe tbody tr th {\n",
              "        vertical-align: top;\n",
              "    }\n",
              "\n",
              "    .dataframe thead th {\n",
              "        text-align: right;\n",
              "    }\n",
              "</style>\n",
              "<table border=\"1\" class=\"dataframe\">\n",
              "  <thead>\n",
              "    <tr style=\"text-align: right;\">\n",
              "      <th></th>\n",
              "      <th>ID</th>\n",
              "      <th>TITLE</th>\n",
              "      <th>URL</th>\n",
              "      <th>PUBLISHER</th>\n",
              "      <th>CATEGORY</th>\n",
              "      <th>STORY</th>\n",
              "      <th>HOSTNAME</th>\n",
              "      <th>TIMESTAMP</th>\n",
              "    </tr>\n",
              "  </thead>\n",
              "  <tbody>\n",
              "    <tr>\n",
              "      <th>0</th>\n",
              "      <td>1</td>\n",
              "      <td>Fed official says weak data caused by weather,...</td>\n",
              "      <td>http://www.latimes.com/business/money/la-fi-mo...</td>\n",
              "      <td>Los Angeles Times</td>\n",
              "      <td>b</td>\n",
              "      <td>ddUyU0VZz0BRneMioxUPQVP6sIxvM</td>\n",
              "      <td>www.latimes.com</td>\n",
              "      <td>1394470370698</td>\n",
              "    </tr>\n",
              "    <tr>\n",
              "      <th>1</th>\n",
              "      <td>2</td>\n",
              "      <td>Fed's Charles Plosser sees high bar for change...</td>\n",
              "      <td>http://www.livemint.com/Politics/H2EvwJSK2VE6O...</td>\n",
              "      <td>Livemint</td>\n",
              "      <td>b</td>\n",
              "      <td>ddUyU0VZz0BRneMioxUPQVP6sIxvM</td>\n",
              "      <td>www.livemint.com</td>\n",
              "      <td>1394470371207</td>\n",
              "    </tr>\n",
              "    <tr>\n",
              "      <th>2</th>\n",
              "      <td>3</td>\n",
              "      <td>US open: Stocks fall after Fed official hints ...</td>\n",
              "      <td>http://www.ifamagazine.com/news/us-open-stocks...</td>\n",
              "      <td>IFA Magazine</td>\n",
              "      <td>b</td>\n",
              "      <td>ddUyU0VZz0BRneMioxUPQVP6sIxvM</td>\n",
              "      <td>www.ifamagazine.com</td>\n",
              "      <td>1394470371550</td>\n",
              "    </tr>\n",
              "    <tr>\n",
              "      <th>3</th>\n",
              "      <td>4</td>\n",
              "      <td>Fed risks falling 'behind the curve', Charles ...</td>\n",
              "      <td>http://www.ifamagazine.com/news/fed-risks-fall...</td>\n",
              "      <td>IFA Magazine</td>\n",
              "      <td>b</td>\n",
              "      <td>ddUyU0VZz0BRneMioxUPQVP6sIxvM</td>\n",
              "      <td>www.ifamagazine.com</td>\n",
              "      <td>1394470371793</td>\n",
              "    </tr>\n",
              "    <tr>\n",
              "      <th>4</th>\n",
              "      <td>5</td>\n",
              "      <td>Fed's Plosser: Nasty Weather Has Curbed Job Gr...</td>\n",
              "      <td>http://www.moneynews.com/Economy/federal-reser...</td>\n",
              "      <td>Moneynews</td>\n",
              "      <td>b</td>\n",
              "      <td>ddUyU0VZz0BRneMioxUPQVP6sIxvM</td>\n",
              "      <td>www.moneynews.com</td>\n",
              "      <td>1394470372027</td>\n",
              "    </tr>\n",
              "  </tbody>\n",
              "</table>\n",
              "</div>"
            ],
            "text/plain": [
              "   ID  ...      TIMESTAMP\n",
              "0   1  ...  1394470370698\n",
              "1   2  ...  1394470371207\n",
              "2   3  ...  1394470371550\n",
              "3   4  ...  1394470371793\n",
              "4   5  ...  1394470372027\n",
              "\n",
              "[5 rows x 8 columns]"
            ]
          },
          "metadata": {
            "tags": []
          },
          "execution_count": 17
        }
      ]
    },
    {
      "cell_type": "code",
      "metadata": {
        "id": "PBGhtnx8rhCs",
        "colab_type": "code",
        "colab": {
          "base_uri": "https://localhost:8080/",
          "height": 102
        },
        "outputId": "d36e822a-4b5c-488c-a3fa-82314cc80d94"
      },
      "source": [
        "data.CATEGORY.value_counts()"
      ],
      "execution_count": 18,
      "outputs": [
        {
          "output_type": "execute_result",
          "data": {
            "text/plain": [
              "e    152469\n",
              "b    115967\n",
              "t    108344\n",
              "m     45639\n",
              "Name: CATEGORY, dtype: int64"
            ]
          },
          "metadata": {
            "tags": []
          },
          "execution_count": 18
        }
      ]
    },
    {
      "cell_type": "code",
      "metadata": {
        "id": "iwxz3QbFrg_U",
        "colab_type": "code",
        "colab": {}
      },
      "source": [
        "num_of_categories = 45000"
      ],
      "execution_count": 19,
      "outputs": []
    },
    {
      "cell_type": "code",
      "metadata": {
        "id": "-t4gljV2rg8-",
        "colab_type": "code",
        "colab": {}
      },
      "source": [
        "shuffled = data.reindex(np.random.permutation(data.index))\n",
        "e = shuffled[shuffled['CATEGORY']=='e'][:num_of_categories]\n",
        "b = shuffled[shuffled['CATEGORY']=='b'][:num_of_categories]\n",
        "t = shuffled[shuffled['CATEGORY']=='t'][:num_of_categories]\n",
        "m = shuffled[shuffled['CATEGORY']=='m'][:num_of_categories]"
      ],
      "execution_count": 20,
      "outputs": []
    },
    {
      "cell_type": "code",
      "metadata": {
        "id": "p0WnZWycsgJW",
        "colab_type": "code",
        "colab": {}
      },
      "source": [
        "concated = pd.concat([e,b,t,m],ignore_index=True)\n",
        "# shuffle the dataset\n",
        "concated = concated.reindex(np.random.permutation(concated.index))\n",
        "concated['label'] = 0"
      ],
      "execution_count": 23,
      "outputs": []
    },
    {
      "cell_type": "code",
      "metadata": {
        "id": "cjs7NR_4sgGf",
        "colab_type": "code",
        "colab": {
          "base_uri": "https://localhost:8080/",
          "height": 374
        },
        "outputId": "5b903816-358e-41ef-9c64-251a95ccb1db"
      },
      "source": [
        "concated.loc[concated['CATEGORY']=='e','LABEL'] = 0\n",
        "concated.loc[concated['CATEGORY']=='b','LABEL'] = 1\n",
        "concated.loc[concated['CATEGORY']=='t','LABEL'] = 2\n",
        "concated.loc[concated['CATEGORY']=='m','LABEL'] = 3\n",
        "print(concated['LABEL'][:10])\n",
        "labels = to_categorical(concated['LABEL'],num_classes=4)\n",
        "print(labels[:10])\n",
        "if 'CATEGORY' in concated.keys():\n",
        "  concated.drop(['CATEGORY'],axis = 1)"
      ],
      "execution_count": 25,
      "outputs": [
        {
          "output_type": "stream",
          "text": [
            "33804     0.0\n",
            "28486     0.0\n",
            "55080     1.0\n",
            "125691    2.0\n",
            "72886     1.0\n",
            "90275     2.0\n",
            "173816    3.0\n",
            "113683    2.0\n",
            "64018     1.0\n",
            "3568      0.0\n",
            "Name: LABEL, dtype: float64\n",
            "[[1. 0. 0. 0.]\n",
            " [1. 0. 0. 0.]\n",
            " [0. 1. 0. 0.]\n",
            " [0. 0. 1. 0.]\n",
            " [0. 1. 0. 0.]\n",
            " [0. 0. 1. 0.]\n",
            " [0. 0. 0. 1.]\n",
            " [0. 0. 1. 0.]\n",
            " [0. 1. 0. 0.]\n",
            " [1. 0. 0. 0.]]\n"
          ],
          "name": "stdout"
        }
      ]
    },
    {
      "cell_type": "code",
      "metadata": {
        "id": "w2LFSaSwvJLO",
        "colab_type": "code",
        "colab": {
          "base_uri": "https://localhost:8080/",
          "height": 68
        },
        "outputId": "a205e9fe-2835-412b-b71d-4641723dbbda"
      },
      "source": [
        "n_most_common_words = 8000\n",
        "max_len = 130\n",
        "tokenizer = Tokenizer(num_words = n_most_common_words,filters='1\"#$%&()*+,-/.;:<=>?@[\\]^_{|},', lower = True)\n",
        "tokenizer.fit_on_texts(concated['TITLE'].values)\n",
        "sequences = tokenizer.texts_to_sequences(concated['TITLE'].values)\n",
        "word_index = tokenizer.word_index\n",
        "print('Found % unique tokens'%len(word_index))\n",
        "x = pad_sequences(sequences, maxlen = max_len)\n",
        "x_train, x_test, y_train, y_test = train_test_split(x,labels,test_size=0.25,random_state=42)\n",
        "epochs = 10\n",
        "emb_dim = 128\n",
        "batch_size = 256\n",
        "labels[:2]"
      ],
      "execution_count": 28,
      "outputs": [
        {
          "output_type": "stream",
          "text": [
            "Found  52343nique tokens\n"
          ],
          "name": "stdout"
        },
        {
          "output_type": "execute_result",
          "data": {
            "text/plain": [
              "array([[1., 0., 0., 0.],\n",
              "       [1., 0., 0., 0.]], dtype=float32)"
            ]
          },
          "metadata": {
            "tags": []
          },
          "execution_count": 28
        }
      ]
    },
    {
      "cell_type": "code",
      "metadata": {
        "id": "osJ-7nQLsgBx",
        "colab_type": "code",
        "colab": {
          "base_uri": "https://localhost:8080/",
          "height": 323
        },
        "outputId": "500b99b7-90cd-478f-c0de-89a4eda8f32a"
      },
      "source": [
        "from keras.layers import SpatialDropout1D\n",
        "print(x_train.shape,y_train.shape,x_test.shape,y_test.shape)\n",
        "model = Sequential()\n",
        "model.add(Embedding(n_most_common_words,emb_dim,input_length=x.shape[1]))\n",
        "model.add(SpatialDropout1D(0.7))\n",
        "model.add(LSTM(64,dropout=0.7,recurrent_dropout=0.7))\n",
        "model.add(Dense(4, activation='softmax'))\n",
        "model.compile(optimizer='adam',loss='categorical_crossentropy',metrics=['acc'])\n",
        "print(model.summary())\n"
      ],
      "execution_count": 36,
      "outputs": [
        {
          "output_type": "stream",
          "text": [
            "(135000, 130) (135000, 4) (45000, 130) (45000, 4)\n",
            "Model: \"sequential_6\"\n",
            "_________________________________________________________________\n",
            "Layer (type)                 Output Shape              Param #   \n",
            "=================================================================\n",
            "embedding_6 (Embedding)      (None, 130, 128)          1024000   \n",
            "_________________________________________________________________\n",
            "spatial_dropout1d_2 (Spatial (None, 130, 128)          0         \n",
            "_________________________________________________________________\n",
            "lstm_2 (LSTM)                (None, 64)                49408     \n",
            "_________________________________________________________________\n",
            "dense_2 (Dense)              (None, 4)                 260       \n",
            "=================================================================\n",
            "Total params: 1,073,668\n",
            "Trainable params: 1,073,668\n",
            "Non-trainable params: 0\n",
            "_________________________________________________________________\n",
            "None\n"
          ],
          "name": "stdout"
        }
      ]
    },
    {
      "cell_type": "code",
      "metadata": {
        "id": "FyZMRiiWxs8G",
        "colab_type": "code",
        "colab": {
          "base_uri": "https://localhost:8080/",
          "height": 428
        },
        "outputId": "945260aa-f8fd-4342-ac3d-20729ac54af0"
      },
      "source": [
        "History = model.fit(x_train,y_train, epochs=epochs, batch_size=batch_size,validation_split=0.2,callbacks=[EarlyStopping(monitor='val_loss')])"
      ],
      "execution_count": 37,
      "outputs": [
        {
          "output_type": "stream",
          "text": [
            "/usr/local/lib/python3.6/dist-packages/tensorflow/python/framework/indexed_slices.py:434: UserWarning: Converting sparse IndexedSlices to a dense Tensor of unknown shape. This may consume a large amount of memory.\n",
            "  \"Converting sparse IndexedSlices to a dense Tensor of unknown shape. \"\n"
          ],
          "name": "stderr"
        },
        {
          "output_type": "stream",
          "text": [
            "Train on 108000 samples, validate on 27000 samples\n",
            "Epoch 1/10\n",
            "108000/108000 [==============================] - 246s 2ms/step - loss: 0.8879 - acc: 0.6379 - val_loss: 0.3426 - val_acc: 0.8813\n",
            "Epoch 2/10\n",
            "108000/108000 [==============================] - 247s 2ms/step - loss: 0.4178 - acc: 0.8536 - val_loss: 0.2742 - val_acc: 0.9058\n",
            "Epoch 3/10\n",
            "108000/108000 [==============================] - 240s 2ms/step - loss: 0.3418 - acc: 0.8825 - val_loss: 0.2500 - val_acc: 0.9141\n",
            "Epoch 4/10\n",
            "108000/108000 [==============================] - 240s 2ms/step - loss: 0.3063 - acc: 0.8957 - val_loss: 0.2408 - val_acc: 0.9169\n",
            "Epoch 5/10\n",
            "108000/108000 [==============================] - 239s 2ms/step - loss: 0.2874 - acc: 0.9023 - val_loss: 0.2356 - val_acc: 0.9200\n",
            "Epoch 6/10\n",
            "108000/108000 [==============================] - 240s 2ms/step - loss: 0.2690 - acc: 0.9088 - val_loss: 0.2326 - val_acc: 0.9214\n",
            "Epoch 7/10\n",
            "108000/108000 [==============================] - 239s 2ms/step - loss: 0.2544 - acc: 0.9133 - val_loss: 0.2314 - val_acc: 0.9210\n",
            "Epoch 8/10\n",
            "108000/108000 [==============================] - 239s 2ms/step - loss: 0.2486 - acc: 0.9155 - val_loss: 0.2300 - val_acc: 0.9227\n",
            "Epoch 9/10\n",
            "108000/108000 [==============================] - 240s 2ms/step - loss: 0.2424 - acc: 0.9176 - val_loss: 0.2276 - val_acc: 0.9230\n",
            "Epoch 10/10\n",
            "108000/108000 [==============================] - 241s 2ms/step - loss: 0.2373 - acc: 0.9192 - val_loss: 0.2283 - val_acc: 0.9231\n"
          ],
          "name": "stdout"
        }
      ]
    },
    {
      "cell_type": "code",
      "metadata": {
        "id": "NE2WoPKpxs5M",
        "colab_type": "code",
        "colab": {
          "base_uri": "https://localhost:8080/",
          "height": 85
        },
        "outputId": "37581bbc-baec-4a9b-84a2-7aaded218bcb"
      },
      "source": [
        "accr =model.evaluate(x_test,y_test)\n",
        "print('Test set \\n loss:{:0.3f}\\n Accoracy;{0.3f}')"
      ],
      "execution_count": 38,
      "outputs": [
        {
          "output_type": "stream",
          "text": [
            "45000/45000 [==============================] - 31s 686us/step\n",
            "Test set \n",
            " loss:{:0.3f}\n",
            " Accoracy;{0.3f}\n"
          ],
          "name": "stdout"
        }
      ]
    },
    {
      "cell_type": "code",
      "metadata": {
        "id": "PNs5gtoeVIk4",
        "colab_type": "code",
        "colab": {}
      },
      "source": [
        "model.save_weights('./weights_multi_class.hdf5', overwrite=True)"
      ],
      "execution_count": 40,
      "outputs": []
    },
    {
      "cell_type": "code",
      "metadata": {
        "id": "_-Kw-MDvxs16",
        "colab_type": "code",
        "colab": {
          "base_uri": "https://localhost:8080/",
          "height": 545
        },
        "outputId": "ad861ced-a617-4a62-ecce-1e01fca461fa"
      },
      "source": [
        "import matplotlib.pyplot as plt\n",
        "acc = History.history['acc']\n",
        "val_acc = History.history['val_acc']\n",
        "loss = History.history['loss']\n",
        "val_loss = History.history['val_loss']\n",
        "\n",
        "epochs = range(1,len(acc)+1)\n",
        "\n",
        "plt.plot(epochs,acc,'bo',label='Training accuracy')\n",
        "plt.plot(epochs,val_acc,'b',label='Validation accuracy')\n",
        "plt.title('Training & Validation Accuracy')\n",
        "plt.legend()\n",
        "plt.figure()\n",
        "\n",
        "plt.plot(epochs,loss,'bo',label='Training loss')\n",
        "plt.plot(epochs,val_loss,'b',label='Validation loss')\n",
        "plt.title('Training & Validation Loss')\n",
        "plt.legend()\n",
        "plt.show()\n"
      ],
      "execution_count": 47,
      "outputs": [
        {
          "output_type": "display_data",
          "data": {
            "image/png": "[encoded data removed]",
            "text/plain": [
              "<Figure size 432x288 with 1 Axes>"
            ]
          },
          "metadata": {
            "tags": [],
            "needs_background": "light"
          }
        },
        {
          "output_type": "display_data",
          "data": {
            "image/png": "[encoded data removed]",
            "text/plain": [
              "<Figure size 432x288 with 1 Axes>"
            ]
          },
          "metadata": {
            "tags": [],
            "needs_background": "light"
          }
        }
      ]
    }
  ]
}